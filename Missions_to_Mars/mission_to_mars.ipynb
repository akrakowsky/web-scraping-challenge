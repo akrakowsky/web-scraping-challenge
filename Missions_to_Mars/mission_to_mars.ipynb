{
 "cells": [
  {
   "cell_type": "markdown",
   "id": "8026135c",
   "metadata": {},
   "source": [
    "## Mission to Mars"
   ]
  },
  {
   "cell_type": "code",
   "execution_count": 1,
   "id": "974a812b",
   "metadata": {},
   "outputs": [
    {
     "name": "stdout",
     "output_type": "stream",
     "text": [
      "Requirement already satisfied: pymongo in c:\\users\\alig_\\anaconda3\\lib\\site-packages (3.12.0)\n"
     ]
    }
   ],
   "source": [
    "!pip install pymongo"
   ]
  },
  {
   "cell_type": "code",
   "execution_count": 12,
   "id": "6ee92828",
   "metadata": {},
   "outputs": [],
   "source": [
    "# Dependencies\n",
    "from bs4 import BeautifulSoup as soup\n",
    "import requests\n",
    "import pymongo\n",
    "from splinter import Browser \n",
    "from webdriver_manager.chrome import ChromeDriverManager"
   ]
  },
  {
   "cell_type": "markdown",
   "id": "dee72c00",
   "metadata": {},
   "source": [
    "## Find the latest news title"
   ]
  },
  {
   "cell_type": "code",
   "execution_count": 13,
   "id": "352d1034",
   "metadata": {},
   "outputs": [
    {
     "name": "stderr",
     "output_type": "stream",
     "text": [
      "\n",
      "\n",
      "====== WebDriver manager ======\n",
      "Current google-chrome version is 94.0.4606\n",
      "Get LATEST driver version for 94.0.4606\n",
      "Driver [C:\\Users\\alig_\\.wdm\\drivers\\chromedriver\\win32\\94.0.4606.41\\chromedriver.exe] found in cache\n"
     ]
    },
    {
     "name": "stdout",
     "output_type": "stream",
     "text": [
      "NASA's Perseverance Rover Cameras Capture Mars Like Never Before\n",
      "September 23, 2021NASA's Perseverance Rover Cameras Capture Mars Like Never BeforeScientists tap into an array of imagers aboard the six-wheeled explorer to get a big picture of the Red Planet.\n"
     ]
    }
   ],
   "source": [
    "# Setup splinter\n",
    "executable_path = {'executable_path': ChromeDriverManager().install()}\n",
    "browser = Browser('chrome', **executable_path, headless=False)\n",
    "\n",
    "# Visit site\n",
    "url = 'https://mars.nasa.gov/news/?page=0&per_page=40&order=publish_date+desc%2Ccreated_at+desc&search=&category=19%2C165%2C184%2C204&blank_scope=Latest'\n",
    "browser.visit(url)\n",
    "\n",
    "html = browser.html\n",
    "\n",
    "# Convert browser to soup object\n",
    "new_soup = soup(html, 'html.parser')\n",
    "\n",
    "slide_element = new_soup.select_one(\"ul.item_list li.slide\")\n",
    "\n",
    "# Find the features news title\n",
    "news_title = slide_element.find(\"div\", class_=\"content_title\").get_text()\n",
    "print(news_title)\n",
    "\n",
    "new_paragraph = slide_element.find(\"div\", class_=\"list_text\",).get_text()\n",
    "print(new_paragraph)"
   ]
  },
  {
   "cell_type": "markdown",
   "id": "9b58411a",
   "metadata": {},
   "source": [
    "## Find the Featured Image"
   ]
  },
  {
   "cell_type": "code",
   "execution_count": 21,
   "id": "c375c136",
   "metadata": {},
   "outputs": [
    {
     "name": "stderr",
     "output_type": "stream",
     "text": [
      "\n",
      "\n",
      "====== WebDriver manager ======\n",
      "Current google-chrome version is 94.0.4606\n",
      "Get LATEST driver version for 94.0.4606\n",
      "Driver [C:\\Users\\alig_\\.wdm\\drivers\\chromedriver\\win32\\94.0.4606.41\\chromedriver.exe] found in cache\n"
     ]
    },
    {
     "ename": "TypeError",
     "evalue": "'NoneType' object is not subscriptable",
     "output_type": "error",
     "traceback": [
      "\u001b[1;31m---------------------------------------------------------------------------\u001b[0m",
      "\u001b[1;31mTypeError\u001b[0m                                 Traceback (most recent call last)",
      "\u001b[1;32m<ipython-input-21-26e44875a77c>\u001b[0m in \u001b[0;36m<module>\u001b[1;34m\u001b[0m\n\u001b[0;32m     12\u001b[0m \u001b[1;31m# find the full image\u001b[0m\u001b[1;33m\u001b[0m\u001b[1;33m\u001b[0m\u001b[1;33m\u001b[0m\u001b[0m\n\u001b[0;32m     13\u001b[0m \u001b[0mfeatured_image_url\u001b[0m \u001b[1;33m=\u001b[0m \u001b[0mnew_soup\u001b[0m\u001b[1;33m.\u001b[0m\u001b[0mfind\u001b[0m\u001b[1;33m(\u001b[0m\u001b[1;34m'img'\u001b[0m\u001b[1;33m,\u001b[0m \u001b[0mclass_\u001b[0m\u001b[1;33m=\u001b[0m\u001b[1;34m\"fancybox-image\"\u001b[0m\u001b[1;33m)\u001b[0m\u001b[1;33m\u001b[0m\u001b[1;33m\u001b[0m\u001b[0m\n\u001b[1;32m---> 14\u001b[1;33m \u001b[0mprint\u001b[0m\u001b[1;33m(\u001b[0m\u001b[0mfeatured_image_url\u001b[0m\u001b[1;33m[\u001b[0m\u001b[1;34m\"src\"\u001b[0m\u001b[1;33m]\u001b[0m\u001b[1;33m)\u001b[0m\u001b[1;33m\u001b[0m\u001b[1;33m\u001b[0m\u001b[0m\n\u001b[0m",
      "\u001b[1;31mTypeError\u001b[0m: 'NoneType' object is not subscriptable"
     ]
    }
   ],
   "source": [
    "# Setup splinter\n",
    "executable_path = {'executable_path': ChromeDriverManager().install()}\n",
    "browser = Browser('chrome', **executable_path, headless=False)\n",
    "\n",
    "# Visit site\n",
    "url = 'https://data-class-jpl-space.s3.amazonaws.com/JPL_Space/index.html'\n",
    "browser.visit(url)\n",
    "\n",
    "html = browser.html\n",
    "new_soup = soup(html, 'html.parser')\n",
    "\n",
    "# find the full image\n",
    "featured_image_url = new_soup.find('img', class_=\"fancybox-image\")\n",
    "print(featured_image_url[\"src\"])"
   ]
  },
  {
   "cell_type": "code",
   "execution_count": null,
   "id": "3bdcbd16",
   "metadata": {},
   "outputs": [],
   "source": [
    "featured_image_url = 'https://data-class-jpl-space.s3.amazonaws.com/JPL_Space/image/featured/mars2.jpg'"
   ]
  },
  {
   "cell_type": "code",
   "execution_count": null,
   "id": "85200d2a",
   "metadata": {},
   "outputs": [],
   "source": [
    "\n",
    "def init_browser():\n",
    "    # @NOTE: Replace the path with your actual path to the chromedriver\n",
    "    executable_path = { \"executable_path\": ChromeDriverManager().install()}\n",
    "    return Browser(\"chrome\", **executable_path, headless=False)\n",
    "\n",
    "\n",
    "def scrape():\n",
    "    browser = init_browser()\n",
    "    listings = {}\n",
    "\n",
    "    url = \"https://raleigh.craigslist.org/search/hhh?max_price=1500&availabilityMode=0\"\n",
    "    browser.visit(url)\n",
    "\n",
    "    html = browser.html\n",
    "    soup = BeautifulSoup(html, \"html.parser\")\n",
    "    try:\n",
    "        listings[\"headline\"] = soup.find(\"a\", class_=\"result-title\").get_text()\n",
    "        listings[\"price\"] = soup.find(\"span\", class_=\"result-price\").get_text()\n",
    "        listings[\"hood\"] = soup.find(\"span\", class_=\"result-hood\").get_text()\n",
    "    except: \n",
    "        print(\"Scrape Complete\")\n",
    "    return listings\n",
    "https://data-class-jpl-space.s3.amazonaws.com/JPL_Space/index.html"
   ]
  },
  {
   "cell_type": "code",
   "execution_count": null,
   "id": "3c32cdba",
   "metadata": {},
   "outputs": [],
   "source": [
    "# # Initialize PyMongo to work with MongoDBs\n",
    "# conn = 'mongodb://localhost:27017'\n",
    "# client = pymongo.MongoClient(conn)\n",
    "\n",
    "# # Define database and collection\n",
    "# db = client.craigslist_db\n",
    "# collection = db.items\n",
    "\n",
    "# # URL of page to be scraped\n",
    "# url = 'https://newjersey.craigslist.org/search/sss?sort=rel&query=guitar'\n",
    "\n",
    "\n",
    "# # Retrieve page with the requests module\n",
    "# response = requests.get(url, verify=False)\n",
    "# # Create BeautifulSoup object; parse with 'lxml'\n",
    "# soup = BeautifulSoup(response.text, 'lxml')\n",
    "# response.text\n",
    "\n",
    "# # Examine the results, then determine element that contains sought info\n",
    "# # results are returned as an iterable list\n",
    "# results = soup.find_all('li', class_='result-row')\n",
    "\n",
    "\n",
    "# # Loop through returned results\n",
    "# for result in results:\n",
    "#     # Error handling\n",
    "#     try:\n",
    "#         # Identify and return title of listing\n",
    "#         title = result.find('a', class_='result-title').text\n",
    "#         # Identify and return price of listing\n",
    "#         price = result.a.span.text\n",
    "#         # Identify and return link to listing\n",
    "#         link = result.a['href']\n",
    "\n",
    "#         # Run only if title, price, and link are available\n",
    "#         if (title and price and link):\n",
    "#             # Print results\n",
    "#             print('-------------')\n",
    "#             print(title)\n",
    "#             print(price)\n",
    "#             print(link)\n",
    "\n",
    "#             # Dictionary to be inserted as a MongoDB document\n",
    "#             post = {\n",
    "#                 'title': title,\n",
    "#                 'price': price,\n",
    "#                 'url': link\n",
    "#             }\n",
    "\n",
    "#             collection.insert_one(post)\n",
    "\n",
    "#     except Exception as e:\n",
    "#         print(e)\n",
    "\n",
    "\n",
    "# # Display items in MongoDB collection\n",
    "# listings = db.items.find()\n",
    "\n",
    "# for listing in listings:\n",
    "#     print(listing)"
   ]
  },
  {
   "cell_type": "code",
   "execution_count": null,
   "id": "c030def4",
   "metadata": {},
   "outputs": [],
   "source": [
    "browser.quit()"
   ]
  }
 ],
 "metadata": {
  "kernelspec": {
   "display_name": "Python 3",
   "language": "python",
   "name": "python3"
  },
  "language_info": {
   "codemirror_mode": {
    "name": "ipython",
    "version": 3
   },
   "file_extension": ".py",
   "mimetype": "text/x-python",
   "name": "python",
   "nbconvert_exporter": "python",
   "pygments_lexer": "ipython3",
   "version": "3.8.8"
  }
 },
 "nbformat": 4,
 "nbformat_minor": 5
}
